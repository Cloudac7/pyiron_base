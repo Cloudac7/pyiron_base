{
 "cells": [
  {
   "cell_type": "code",
   "execution_count": 1,
   "metadata": {},
   "outputs": [],
   "source": [
    "from pyiron_base import PythonTemplateJob"
   ]
  },
  {
   "cell_type": "code",
   "execution_count": 2,
   "metadata": {},
   "outputs": [],
   "source": [
    "class ToyJob(PythonTemplateJob):\n",
    "    def __init__(self, project, job_name):\n",
    "        super(ToyJob, self).__init__(project, job_name) \n",
    "        self.input['input_energy'] = 100\n",
    "    \n",
    "    # This function is executed \n",
    "    def run_static(self):\n",
    "        with self.project_hdf5.open(\"output/generic\") as h5out: \n",
    "             h5out[\"energy_tot\"] = self.input[\"input_energy\"]\n",
    "        self.status.finished = True"
   ]
  },
  {
   "cell_type": "code",
   "execution_count": 3,
   "metadata": {},
   "outputs": [
    {
     "name": "stdout",
     "output_type": "stream",
     "text": [
      "      Parameter  Value Comment\n",
      "0  input_energy    100        \n",
      "The job toy was saved and received the ID: 470\n"
     ]
    },
    {
     "data": {
      "text/plain": [
       "100"
      ]
     },
     "execution_count": 3,
     "metadata": {},
     "output_type": "execute_result"
    }
   ],
   "source": [
    "from pyiron_base import Project\n",
    "pr = Project('test')\n",
    "pr.remove_jobs_silently(recursive=True)\n",
    "job = pr.create_job(job_type=ToyJob, job_name=\"toy\")\n",
    "print(job.input)\n",
    "job.run()\n",
    "job['output/generic/energy_tot']"
   ]
  },
  {
   "cell_type": "code",
   "execution_count": 5,
   "metadata": {},
   "outputs": [],
   "source": [
    "pr.pack(destination_path='archive_folder',compress=True)"
   ]
  },
  {
   "cell_type": "code",
   "execution_count": 6,
   "metadata": {},
   "outputs": [
    {
     "data": {
      "text/html": [
       "<div>\n",
       "<style scoped>\n",
       "    .dataframe tbody tr th:only-of-type {\n",
       "        vertical-align: middle;\n",
       "    }\n",
       "\n",
       "    .dataframe tbody tr th {\n",
       "        vertical-align: top;\n",
       "    }\n",
       "\n",
       "    .dataframe thead th {\n",
       "        text-align: right;\n",
       "    }\n",
       "</style>\n",
       "<table border=\"1\" class=\"dataframe\">\n",
       "  <thead>\n",
       "    <tr style=\"text-align: right;\">\n",
       "      <th></th>\n",
       "      <th>id</th>\n",
       "      <th>status</th>\n",
       "      <th>chemicalformula</th>\n",
       "      <th>job</th>\n",
       "      <th>subjob</th>\n",
       "      <th>projectpath</th>\n",
       "      <th>project</th>\n",
       "      <th>timestart</th>\n",
       "      <th>timestop</th>\n",
       "      <th>totalcputime</th>\n",
       "      <th>computer</th>\n",
       "      <th>hamilton</th>\n",
       "      <th>hamversion</th>\n",
       "      <th>parentid</th>\n",
       "      <th>masterid</th>\n",
       "    </tr>\n",
       "  </thead>\n",
       "  <tbody>\n",
       "    <tr>\n",
       "      <th>0</th>\n",
       "      <td>470</td>\n",
       "      <td>finished</td>\n",
       "      <td>None</td>\n",
       "      <td>toy</td>\n",
       "      <td>/toy</td>\n",
       "      <td>/home/muhammad/</td>\n",
       "      <td>workspace/gitRepo/pyiron_base/notebooks/test/</td>\n",
       "      <td>2021-01-11 11:53:56.199496</td>\n",
       "      <td>None</td>\n",
       "      <td>None</td>\n",
       "      <td>pyiron@cmleo14#1</td>\n",
       "      <td>GenericJob</td>\n",
       "      <td>0.4</td>\n",
       "      <td>None</td>\n",
       "      <td>None</td>\n",
       "    </tr>\n",
       "  </tbody>\n",
       "</table>\n",
       "</div>"
      ],
      "text/plain": [
       "    id    status chemicalformula  job subjob      projectpath  \\\n",
       "0  470  finished            None  toy   /toy  /home/muhammad/   \n",
       "\n",
       "                                         project                  timestart  \\\n",
       "0  workspace/gitRepo/pyiron_base/notebooks/test/ 2021-01-11 11:53:56.199496   \n",
       "\n",
       "  timestop totalcputime          computer    hamilton hamversion parentid  \\\n",
       "0     None         None  pyiron@cmleo14#1  GenericJob        0.4     None   \n",
       "\n",
       "  masterid  \n",
       "0     None  "
      ]
     },
     "execution_count": 6,
     "metadata": {},
     "output_type": "execute_result"
    }
   ],
   "source": [
    "pr.job_table()"
   ]
  },
  {
   "cell_type": "code",
   "execution_count": null,
   "metadata": {},
   "outputs": [],
   "source": []
  }
 ],
 "metadata": {
  "kernelspec": {
   "display_name": "Python 3",
   "language": "python",
   "name": "python3"
  },
  "language_info": {
   "codemirror_mode": {
    "name": "ipython",
    "version": 3
   },
   "file_extension": ".py",
   "mimetype": "text/x-python",
   "name": "python",
   "nbconvert_exporter": "python",
   "pygments_lexer": "ipython3",
   "version": "3.9.1"
  }
 },
 "nbformat": 4,
 "nbformat_minor": 4
}
